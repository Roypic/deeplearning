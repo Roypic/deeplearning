{
 "cells": [
  {
   "attachments": {},
   "cell_type": "markdown",
   "metadata": {},
   "source": [
    "# Mock Assignment 1\n",
    "\n",
    "Here, we make sure that the setup is as desired. We import everything that we will need, and check whether CUDA is available in our PyTorch installation."
   ]
  },
  {
   "cell_type": "code",
   "execution_count": null,
   "metadata": {},
   "outputs": [],
   "source": [
    "# import everything\n",
    "import numpy\n",
    "import scipy\n",
    "from matplotlib import pyplot\n",
    "import torch\n",
    "import torchvision\n",
    "\n",
    "# make sure that pytorch is setup with CUDA support\n",
    "print(f\"We have successfully installed PyTorch with CUDA support: {torch.cuda.is_available()}\") "
   ]
  },
  {
   "attachments": {},
   "cell_type": "markdown",
   "metadata": {},
   "source": [
    "## Test Data Download\n",
    "We implement some test code to download files from our server."
   ]
  },
  {
   "cell_type": "code",
   "execution_count": null,
   "metadata": {},
   "outputs": [],
   "source": [
    "filename = \"Test-Text.txt\"\n",
    "\n",
    "# download the file from our seafile server\n",
    "import os\n",
    "if not os.path.exists(filename):\n",
    "    url = f\"https://seafile.ifi.uzh.ch/f/32699acdda2a4024b049/?p=%2F{filename}&dl=1\"\n",
    "    import urllib.request\n",
    "    urllib.request.urlretrieve(url, filename)\n",
    "    print (\"Downloaded datafile\", filename)\n",
    "\n",
    "with open(filename) as f:\n",
    "    print(f.read())"
   ]
  },
  {
   "attachments": {},
   "cell_type": "markdown",
   "metadata": {},
   "source": [
    "### 1. (c) Example Dataset Instantiation (3 Points)\n",
    "\n",
    "Instantiate the test dataset of MNIST using its `torchvision.datasets` interface.\n",
    "Set the data to automatically download."
   ]
  },
  {
   "cell_type": "code",
   "execution_count": null,
   "metadata": {},
   "outputs": [],
   "source": [
    "# instantiate the dataset\n",
    "dataset = ..."
   ]
  },
  {
   "attachments": {},
   "cell_type": "markdown",
   "metadata": {},
   "source": [
    "### 1. (d) Example Function Implementation (2 Points)\n",
    "\n",
    "Implement a function that takes an image and divides the results by 2.\n",
    "Call this function with the first image of the dataset MNIST."
   ]
  },
  {
   "cell_type": "code",
   "execution_count": null,
   "metadata": {},
   "outputs": [],
   "source": [
    "def divide_by_2(data):\n",
    "  # divide the data by two\n",
    "  return ...\n",
    "\n",
    "# get the first image of the dataset\n",
    "image, target = dataset[0]\n",
    "# divide the image by 2\n",
    "halved = ...\n",
    "\n",
    "print(f\"Maximum pixel value is {torch.max(halved)}\")"
   ]
  }
 ],
 "metadata": {
  "interpreter": {
   "hash": "a29cabff5744fce69e08a959ab87b9e77a9f67b498d08783caa8c3bb16f23a00"
  },
  "kernelspec": {
   "display_name": "Python 3.8.13 ('DL')",
   "language": "python",
   "name": "python3"
  },
  "language_info": {
   "codemirror_mode": {
    "name": "ipython",
    "version": 3
   },
   "file_extension": ".py",
   "mimetype": "text/x-python",
   "name": "python",
   "nbconvert_exporter": "python",
   "pygments_lexer": "ipython3",
   "version": "3.8.13"
  },
  "orig_nbformat": 4
 },
 "nbformat": 4,
 "nbformat_minor": 2
}
